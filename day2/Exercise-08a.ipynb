{
 "cells": [
  {
   "cell_type": "markdown",
   "metadata": {},
   "source": [
    "# notMNIST letters clustering with k-means\n",
    "\n",
    "In this notebook, we'll apply the k-means clustering algorithm to analyze notMNIST letters using a GPU and the [RAPIDS](https://rapids.ai/) libraries (cudf, cuml).\n",
    "\n",
    "**Note that a GPU is required with this notebook.**\n",
    "\n",
    "This version of the notebook has been tested with RAPIDS version 0.15.\n",
    "\n",
    "First, the needed imports. "
   ]
  },
  {
   "cell_type": "code",
   "execution_count": null,
   "metadata": {},
   "outputs": [],
   "source": [
    "%matplotlib inline\n",
    "\n",
    "from pml_utils import show_clusters\n",
    "\n",
    "import cudf\n",
    "import numpy as np\n",
    "import pandas as pd\n",
    "\n",
    "import os\n",
    "import urllib.request\n",
    "\n",
    "from cuml import KMeans\n",
    "from cuml import __version__ as cuml_version\n",
    "\n",
    "from sklearn.cluster import KMeans as sklearn_KMeans\n",
    "from sklearn.metrics import adjusted_rand_score\n",
    "from sklearn import __version__ as sklearn_version\n",
    "\n",
    "import matplotlib.pyplot as plt\n",
    "import seaborn as sns\n",
    "sns.set()\n",
    "\n",
    "print('Using cudf version:', cudf.__version__)\n",
    "print('Using cuml version:', cuml_version)\n",
    "print('Using sklearn version:', sklearn_version)"
   ]
  },
  {
   "cell_type": "markdown",
   "metadata": {},
   "source": [
    "Then we load the notMNIST data. First time we need to download the data, which can take a while. The data is stored as Numpy arrays in host (CPU) memory."
   ]
  },
  {
   "cell_type": "code",
   "execution_count": null,
   "metadata": {},
   "outputs": [],
   "source": [
    "def load_not_mnist(directory, filename):\n",
    "    filepath = os.path.join(directory, filename)\n",
    "    if os.path.isfile(filepath):\n",
    "        print('Not downloading, file already exists:', filepath)\n",
    "    else:\n",
    "        if not os.path.isdir(directory):\n",
    "            os.mkdir(directory)\n",
    "        url_base = 'https://a3s.fi/mldata/'\n",
    "        url = url_base + filename\n",
    "        print('Downloading {} to {}'.format(url, filepath))\n",
    "        urllib.request.urlretrieve(url, filepath)\n",
    "    return np.load(filepath)"
   ]
  },
  {
   "cell_type": "code",
   "execution_count": null,
   "metadata": {},
   "outputs": [],
   "source": [
    "DATA_DIR = os.path.expanduser('~/data/notMNIST/')\n",
    "if not os.path.exists(DATA_DIR):\n",
    "    os.makedirs(DATA_DIR)\n",
    "    \n",
    "X = load_not_mnist(DATA_DIR, 'notMNIST_large_images.npy').reshape(-1, 28*28)\n",
    "X = X.astype(np.float32)\n",
    "y = load_not_mnist(DATA_DIR, 'notMNIST_large_labels.npy')\n",
    "\n",
    "print()\n",
    "print('notMNIST data loaded:',len(X))\n",
    "print('X:', type(X), 'shape:', X.shape)\n",
    "print('y:', type(y), 'shape:', y.shape)"
   ]
  },
  {
   "cell_type": "markdown",
   "metadata": {},
   "source": [
    "Let's convert our data to a cuDF DataFrame in device (GPU) memory. "
   ]
  },
  {
   "cell_type": "code",
   "execution_count": null,
   "metadata": {},
   "outputs": [],
   "source": [
    "%%time\n",
    "\n",
    "cu_X = cudf.DataFrame.from_pandas(pd.DataFrame(X))\n",
    "\n",
    "print('cu_X:', type(cu_X), 'shape:', cu_X.shape)"
   ]
  },
  {
   "cell_type": "markdown",
   "metadata": {},
   "source": [
    "## k-means\n",
    "\n",
    "[K-means](https://docs.rapids.ai/api/cuml/stable/api.html#k-means-clustering) clusters data by trying to separate samples in *k* groups of equal variance using an iterative two-step algorithm. It requires the number of clusters as a parameter."
   ]
  },
  {
   "cell_type": "code",
   "execution_count": null,
   "metadata": {},
   "outputs": [],
   "source": [
    "%%time\n",
    "\n",
    "n_clusters_kmeans = 10\n",
    "\n",
    "kmeans = KMeans(n_clusters=n_clusters_kmeans)\n",
    "kmeans.fit(cu_X)\n",
    "\n",
    "kmeans_labels = kmeans.labels_.to_array()\n",
    "kmeans_cluster_centers = kmeans.cluster_centers_.as_matrix()"
   ]
  },
  {
   "cell_type": "markdown",
   "metadata": {},
   "source": [
    "As a comparison, we can run K-means clustering using scikit-learn."
   ]
  },
  {
   "cell_type": "raw",
   "metadata": {},
   "source": [
    "%%time\n",
    "\n",
    "kmeans = sklearn_KMeans(n_clusters=n_clusters_kmeans)\n",
    "kmeans.fit(X)"
   ]
  },
  {
   "cell_type": "raw",
   "metadata": {},
   "source": [
    "CPU times: user 47min 18s, sys: 33min 48s, total: 1h 21min 7s\n",
    "Wall time: 6min 58s\n",
    "\n",
    "KMeans(n_clusters=10)"
   ]
  },
  {
   "cell_type": "markdown",
   "metadata": {},
   "source": [
    "The sizes of the clusters:"
   ]
  },
  {
   "cell_type": "code",
   "execution_count": null,
   "metadata": {},
   "outputs": [],
   "source": [
    "plt.hist(kmeans_labels, bins=range(kmeans.n_clusters+1),\n",
    "         rwidth=0.5)\n",
    "plt.xticks(0.5+np.arange(kmeans.n_clusters),\n",
    "           np.arange(kmeans.n_clusters))\n",
    "plt.title('Cluster sizes');"
   ]
  },
  {
   "cell_type": "markdown",
   "metadata": {},
   "source": [
    "The k-means centroids are vectors in the same space as the original data, so we can take a look at them:"
   ]
  },
  {
   "cell_type": "code",
   "execution_count": null,
   "metadata": {},
   "outputs": [],
   "source": [
    "plt.figure(figsize=(kmeans.n_clusters, 1))\n",
    "\n",
    "for i in range(kmeans.n_clusters):\n",
    "    plt.subplot(1, kmeans.n_clusters, i+1)\n",
    "    plt.axis('off')\n",
    "    plt.imshow(kmeans_cluster_centers[i,:].reshape(28,28), cmap=\"gray\")\n",
    "    plt.title(str(i))"
   ]
  },
  {
   "cell_type": "markdown",
   "metadata": {},
   "source": [
    "Let's also draw some letters from each cluster:"
   ]
  },
  {
   "cell_type": "code",
   "execution_count": null,
   "metadata": {},
   "outputs": [],
   "source": [
    "show_clusters(kmeans_labels, kmeans.n_clusters, X)"
   ]
  },
  {
   "cell_type": "markdown",
   "metadata": {},
   "source": [
    "### Evaluation\n",
    "\n",
    "Since we know the correct labels for the notMNIST letters, we can evaluate the quality of the clustering. We'll use the [adjusted Rand index](https://scikit-learn.org/stable/modules/generated/sklearn.metrics.adjusted_rand_score.html) which considers all pairs of samples and counts pairs that are assigned in the same or different clusters in the predicted and true clusterings. The index is between 0.0 and 1.0 with higher values denoting better clusterings."
   ]
  },
  {
   "cell_type": "code",
   "execution_count": null,
   "metadata": {},
   "outputs": [],
   "source": [
    "print(\"Adjusted Rand index: %.3f\"\n",
    "      % adjusted_rand_score(y, kmeans_labels))"
   ]
  },
  {
   "cell_type": "code",
   "execution_count": null,
   "metadata": {},
   "outputs": [],
   "source": []
  }
 ],
 "metadata": {
  "kernelspec": {
   "display_name": "Python 3",
   "language": "python",
   "name": "python3"
  },
  "language_info": {
   "codemirror_mode": {
    "name": "ipython",
    "version": 3
   },
   "file_extension": ".py",
   "mimetype": "text/x-python",
   "name": "python",
   "nbconvert_exporter": "python",
   "pygments_lexer": "ipython3",
   "version": "3.7.8"
  }
 },
 "nbformat": 4,
 "nbformat_minor": 4
}
