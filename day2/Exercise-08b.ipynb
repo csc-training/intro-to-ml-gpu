{
 "cells": [
  {
   "cell_type": "markdown",
   "metadata": {},
   "source": [
    "# notMNIST letters visualization \n",
    "\n",
    "In this notebook, we'll apply some popular visualization techniques to visualize notMNIST letters using a GPU and the [RAPIDS](https://rapids.ai/) libraries (cudf, cuml).  This notebook is based on the scikit-learn embedding examples found [here](http://scikit-learn.org/stable/auto_examples/manifold/plot_lle_digits.html).\n",
    "\n",
    "**Note that a GPU is required with this notebook.**\n",
    "\n",
    "This version of the notebook has been tested with RAPIDS version 0.15.\n",
    "\n",
    "First, the needed imports."
   ]
  },
  {
   "cell_type": "code",
   "execution_count": null,
   "metadata": {},
   "outputs": [],
   "source": [
    "%matplotlib inline\n",
    "\n",
    "from time import time\n",
    "\n",
    "import cudf\n",
    "import numpy as np\n",
    "import pandas as pd\n",
    "\n",
    "import os\n",
    "import urllib.request\n",
    "\n",
    "from cuml import PCA, TSNE, UMAP\n",
    "from cuml.random_projection import SparseRandomProjection\n",
    "from cuml import __version__ as cuml_version\n",
    "\n",
    "import sklearn\n",
    "from sklearn import __version__ as sklearn_version\n",
    "\n",
    "import matplotlib.pyplot as plt\n",
    "\n",
    "print('Using cudf version:', cudf.__version__)\n",
    "print('Using cuml version:', cuml_version)\n",
    "print('Using sklearn version:', sklearn_version)"
   ]
  },
  {
   "cell_type": "markdown",
   "metadata": {},
   "source": [
    "Then we load the notMNIST data. First time we need to download the data, which can take a while. The data is stored as Numpy arrays in host (CPU) memory."
   ]
  },
  {
   "cell_type": "code",
   "execution_count": null,
   "metadata": {},
   "outputs": [],
   "source": [
    "def load_not_mnist(directory, filename):\n",
    "    filepath = os.path.join(directory, filename)\n",
    "    if os.path.isfile(filepath):\n",
    "        print('Not downloading, file already exists:', filepath)\n",
    "    else:\n",
    "        if not os.path.isdir(directory):\n",
    "            os.mkdir(directory)\n",
    "        url_base = 'https://a3s.fi/mldata/'\n",
    "        url = url_base + filename\n",
    "        print('Downloading {} to {}'.format(url, filepath))\n",
    "        urllib.request.urlretrieve(url, filepath)\n",
    "    return np.load(filepath)"
   ]
  },
  {
   "cell_type": "code",
   "execution_count": null,
   "metadata": {},
   "outputs": [],
   "source": [
    "DATA_DIR = os.path.expanduser('~/data/notMNIST/')\n",
    "if not os.path.exists(DATA_DIR):\n",
    "    os.makedirs(DATA_DIR)\n",
    "    \n",
    "X = load_not_mnist(DATA_DIR, 'notMNIST_large_images.npy').reshape(-1, 28*28)\n",
    "X = X.astype(np.float32)\n",
    "y = load_not_mnist(DATA_DIR, 'notMNIST_large_labels.npy')\n",
    "\n",
    "print()\n",
    "print('notMNIST data loaded:',len(X))\n",
    "print('X:', type(X), 'shape:', X.shape, X.dtype)\n",
    "print('y:', type(y), 'shape:', y.shape, y.dtype)"
   ]
  },
  {
   "cell_type": "markdown",
   "metadata": {},
   "source": [
    "Let's convert our data to a cuDF DataFrame in device (GPU) memory. "
   ]
  },
  {
   "cell_type": "code",
   "execution_count": null,
   "metadata": {},
   "outputs": [],
   "source": [
    "%%time\n",
    "\n",
    "cu_X = cudf.DataFrame.from_pandas(pd.DataFrame(X))\n",
    "\n",
    "print('cu_X:', type(cu_X), 'shape:', cu_X.shape)"
   ]
  },
  {
   "cell_type": "markdown",
   "metadata": {},
   "source": [
    "Let's start by inspecting our data by drawing some samples:"
   ]
  },
  {
   "cell_type": "code",
   "execution_count": null,
   "metadata": {},
   "outputs": [],
   "source": [
    "n_img_per_row = 32 # 32*32=1024\n",
    "img = np.zeros((28 * n_img_per_row, 28 * n_img_per_row))\n",
    "\n",
    "for i in range(n_img_per_row):\n",
    "    ix = 28 * i\n",
    "    for j in range(n_img_per_row):    \n",
    "        iy = 28 * j\n",
    "        img[ix:ix + 28, iy:iy + 28] = X[i * n_img_per_row + j,:].reshape(28,28)\n",
    "img = np.max(img)-img\n",
    "\n",
    "plt.figure(figsize=(9, 9))\n",
    "plt.imshow(img, cmap='Greys')\n",
    "plt.title('1024 first notMNIST letters')\n",
    "ax=plt.axis('off')"
   ]
  },
  {
   "cell_type": "markdown",
   "metadata": {},
   "source": [
    "Let's define a helper function to plot the different visualizations:"
   ]
  },
  {
   "cell_type": "code",
   "execution_count": null,
   "metadata": {},
   "outputs": [],
   "source": [
    "def plot_embedding(X, y, title=None, time=None, color=True, save_as=None):\n",
    "    x_min, x_max = np.min(X, 0), np.max(X, 0)\n",
    "    X = (X - x_min) / (x_max - x_min)\n",
    "\n",
    "    y_int = [ord(yi)-ord('A') for yi in y]\n",
    "    \n",
    "    fig = plt.figure(figsize=(16,9))\n",
    "    ax = fig.add_subplot(111)\n",
    "    plt.axis('off')\n",
    "\n",
    "    if color:\n",
    "        colors = plt.cm.tab10(y_int)\n",
    "        #colors = plt.cm.Set1([yi / 10. for yi in y_int])\n",
    "        alpha = 0.2\n",
    "    else:\n",
    "        colors = 'k'\n",
    "        alpha = 0.2\n",
    "    \n",
    "    s = plt.scatter(X[:, 0], X[:, 1], 0.5, color=colors, alpha=alpha)\n",
    "\n",
    "    if color:\n",
    "        x_lim, y_lim = ax.get_xlim(), ax.get_ylim()\n",
    "        x_labs = x_lim[0] + (x_lim[1]-x_lim[0])*np.arange(10)/30\n",
    "        y_labs = y_lim[0] + (y_lim[1]-y_lim[0])*0.1*np.zeros(10)\n",
    "        labels=['A', 'B', 'C', 'D', 'E', 'F', 'G', 'H', 'I', 'J']\n",
    "        for i in range(10):\n",
    "            plt.text(x_labs[i], y_labs[i], labels[i], color=plt.cm.tab10(i),\n",
    "                     fontdict={'weight': 'bold', 'size': 32})\n",
    "\n",
    "    if title is not None:\n",
    "        if t0 is not None:\n",
    "            plt.title(\"%s (%.2fs)\" % (title, time))\n",
    "        else:\n",
    "            plt.title(title)\n",
    "            \n",
    "    if save_as is not None:\n",
    "        plt.savefig(save_as, bbox_inches='tight', dpi=150)"
   ]
  },
  {
   "cell_type": "markdown",
   "metadata": {},
   "source": [
    "## 1. Random projection\n",
    "\n",
    "A simple first visualization is a [random projection](http://scikit-learn.org/stable/modules/random_projection.html#random-projection) of the data into two dimensions."
   ]
  },
  {
   "cell_type": "code",
   "execution_count": null,
   "metadata": {},
   "outputs": [],
   "source": [
    "t0 = time()\n",
    "rp = SparseRandomProjection(n_components=2, random_state=42)\n",
    "X_projected = rp.fit_transform(cu_X).as_matrix()\n",
    "t = time() - t0"
   ]
  },
  {
   "cell_type": "markdown",
   "metadata": {},
   "source": [
    "The data can also be plotted with points instead of digit labels by setting `show_digits=False`:"
   ]
  },
  {
   "cell_type": "code",
   "execution_count": null,
   "metadata": {},
   "outputs": [],
   "source": [
    "plot_embedding(X_projected, y, \"Random projection\", t, color=False)"
   ]
  },
  {
   "cell_type": "code",
   "execution_count": null,
   "metadata": {},
   "outputs": [],
   "source": [
    "plot_embedding(X_projected, y, \"Random projection\", t)"
   ]
  },
  {
   "cell_type": "markdown",
   "metadata": {},
   "source": [
    "## 2. PCA\n",
    "\n",
    "[Principal component analysis](http://scikit-learn.org/stable/modules/decomposition.html#pca) (PCA) is a standard method to decompose a high-dimensional dataset in a set of successive orthogonal components that explain a maximum amount of the variance. Here we project the data into two first principal components. The components have the maximal possible variance under the orthogonality constraint."
   ]
  },
  {
   "cell_type": "code",
   "execution_count": null,
   "metadata": {},
   "outputs": [],
   "source": [
    "t0 = time()\n",
    "pca = PCA(n_components=2)\n",
    "X_pca = pca.fit_transform(cu_X).as_matrix()\n",
    "t = time() - t0"
   ]
  },
  {
   "cell_type": "code",
   "execution_count": null,
   "metadata": {},
   "outputs": [],
   "source": [
    "plot_embedding(X_pca, y, \"PCA projection\", t, color=False)"
   ]
  },
  {
   "cell_type": "code",
   "execution_count": null,
   "metadata": {},
   "outputs": [],
   "source": [
    "plot_embedding(X_pca, y, \"PCA projection\", t)"
   ]
  },
  {
   "cell_type": "markdown",
   "metadata": {},
   "source": [
    "## 4. t-SNE\n",
    "\n",
    "[t-distributed Stochastic Neighbor Embedding](http://scikit-learn.org/stable/modules/manifold.html#t-sne) (t-SNE) is a relatively new and popular tool to visualize high-dimensional data.  t-SNE is particularly sensitive to local structure and can often reveal clusters in the data.\n",
    "\n",
    "t-SNE has an important tuneable parameter called `perplexity`, that can have a large effect on the resulting visualization, depending on the data.  Typical values for perplexity are between 5 and 50.  "
   ]
  },
  {
   "cell_type": "code",
   "execution_count": null,
   "metadata": {},
   "outputs": [],
   "source": [
    "t0 = time()\n",
    "perplexity=30\n",
    "tsne = TSNE(n_components=2, perplexity=perplexity)\n",
    "X_tsne = tsne.fit_transform(cu_X).as_matrix()\n",
    "t = time() - t0"
   ]
  },
  {
   "cell_type": "markdown",
   "metadata": {},
   "source": [
    "In t-SNE visualizations, there are sometimes outliers that distract the visualization. We therefore remove `prc` % of smallest and largest data points on both dimensions."
   ]
  },
  {
   "cell_type": "code",
   "execution_count": null,
   "metadata": {},
   "outputs": [],
   "source": [
    "prc = 0.01\n",
    "min_tsne = np.percentile(X_tsne, prc, axis=0)\n",
    "max_tsne = np.percentile(X_tsne, 100-prc, axis=0)\n",
    "range_ok = ((X_tsne[:,0]>min_tsne[0]) & \n",
    "            (X_tsne[:,0]<max_tsne[0]) &\n",
    "            (X_tsne[:,1]>min_tsne[1]) & \n",
    "            (X_tsne[:,1]<max_tsne[1]))\n",
    "            \n",
    "X_tsne_filt = X_tsne[range_ok]\n",
    "y_tsne_filt = y[range_ok]\n",
    "\n",
    "plt.figure(figsize=(5,3))\n",
    "plt.hist(X_tsne_filt[:, 0], 100, \n",
    "         range=(min_tsne[0], max_tsne[0]), alpha=0.7);\n",
    "plt.hist(X_tsne_filt[:, 1], 100, \n",
    "         range=(min_tsne[1], max_tsne[1]), alpha=0.7);"
   ]
  },
  {
   "cell_type": "code",
   "execution_count": null,
   "metadata": {},
   "outputs": [],
   "source": [
    "plot_embedding(X_tsne_filt, y_tsne_filt, \n",
    "               \"t-SNE embedding with perplexity=%d\" % perplexity,\n",
    "t)"
   ]
  },
  {
   "cell_type": "markdown",
   "metadata": {},
   "source": [
    "## 5. UMAP\n",
    "\n",
    "[Uniform Manifold Approximation and Projection](https://umap-learn.readthedocs.io/en/latest/index.html) (UMAP) is another recently published technique for data visualization and dimensionality reduction based on manifold learning and topological data analysis."
   ]
  },
  {
   "cell_type": "markdown",
   "metadata": {},
   "source": [
    "The main hyperparameters of UMAP include `n_neighbors` and `min_dist`, which control the the size of the local neighborhood considered and how tightly the algorithm packs neighboring points together, respectively. The values of both hyperparameters have a significant impact on the resulting visualization. "
   ]
  },
  {
   "cell_type": "code",
   "execution_count": null,
   "metadata": {},
   "outputs": [],
   "source": [
    "t0 = time()\n",
    "n_neighbors = 15\n",
    "min_dist = 0.1\n",
    "umapmodel = UMAP(n_neighbors=n_neighbors, min_dist=min_dist)\n",
    "X_umap = umapmodel.fit_transform(cu_X).as_matrix()\n",
    "t = time() - t0"
   ]
  },
  {
   "cell_type": "markdown",
   "metadata": {},
   "source": [
    "In UMAP visualizations, there are sometimes outliers that distract the visualization. We therefore remove `prc` % smallest and largest data points on both dimensions."
   ]
  },
  {
   "cell_type": "code",
   "execution_count": null,
   "metadata": {},
   "outputs": [],
   "source": [
    "prc = 1.0\n",
    "min_umap = np.percentile(X_umap, prc, axis=0)\n",
    "max_umap = np.percentile(X_umap, 100-prc, axis=0)\n",
    "range_ok = ((X_umap[:,0]>min_umap[0]) & \n",
    "            (X_umap[:,0]<max_umap[0]) &\n",
    "            (X_umap[:,1]>min_umap[1]) & \n",
    "            (X_umap[:,1]<max_umap[1]))\n",
    "            \n",
    "X_umap_filt = X_umap[range_ok]\n",
    "y_umap_filt = y[range_ok]\n",
    "\n",
    "plt.figure(figsize=(5,3))\n",
    "plt.hist(X_umap_filt[:, 0], 100, \n",
    "         range=(min_umap[0], max_umap[0]), alpha=0.7);\n",
    "plt.hist(X_umap_filt[:, 1], 100, \n",
    "         range=(min_umap[1], max_umap[1]), alpha=0.7);"
   ]
  },
  {
   "cell_type": "code",
   "execution_count": null,
   "metadata": {},
   "outputs": [],
   "source": [
    "plot_embedding(X_umap_filt, y_umap_filt,\n",
    "               \"UMAP projection with n_neighbors=%d, min_dist=%.2f\" % (n_neighbors, \n",
    "                                                                       min_dist),\n",
    "               t)"
   ]
  },
  {
   "cell_type": "markdown",
   "metadata": {},
   "source": [
    "## 3D visualizations\n",
    "\n",
    "In this section, we produce 3D visualizations using [Plotly](https://plotly.com/python/)"
   ]
  },
  {
   "cell_type": "code",
   "execution_count": null,
   "metadata": {},
   "outputs": [],
   "source": [
    "import plotly.express as px\n",
    "from plotly.offline import plot"
   ]
  },
  {
   "cell_type": "markdown",
   "metadata": {},
   "source": [
    "### PCA"
   ]
  },
  {
   "cell_type": "code",
   "execution_count": null,
   "metadata": {},
   "outputs": [],
   "source": [
    "t0 = time()\n",
    "pca3 = PCA(n_components=3)\n",
    "X_pca3 = pca3.fit_transform(cu_X).as_matrix()\n",
    "print('{:.2f} seconds elapsed'.format(time() - t0))"
   ]
  },
  {
   "cell_type": "code",
   "execution_count": null,
   "metadata": {},
   "outputs": [],
   "source": [
    "fig = px.scatter_3d(\n",
    "    X_pca3, x=0, y=1, z=2, color=y,\n",
    "    title='PCA projection',\n",
    "    labels={'0': 'PC 1', '1': 'PC 2', '2': 'PC 3'}\n",
    ")\n",
    "fig.update_traces(marker=dict(size=1))\n",
    "plot(fig, filename = 'pca3-plot.html');"
   ]
  },
  {
   "cell_type": "markdown",
   "metadata": {},
   "source": [
    "### UMAP"
   ]
  },
  {
   "cell_type": "code",
   "execution_count": null,
   "metadata": {},
   "outputs": [],
   "source": [
    "t0 = time()\n",
    "n_neighbors = 15\n",
    "min_dist = 0.1\n",
    "umapmodel3 = UMAP(n_components=3, \n",
    "                  n_neighbors=n_neighbors, min_dist=min_dist)\n",
    "X_umap3 = umapmodel3.fit_transform(cu_X).as_matrix()\n",
    "print('{:.2f} seconds elapsed'.format(time() - t0))"
   ]
  },
  {
   "cell_type": "code",
   "execution_count": null,
   "metadata": {},
   "outputs": [],
   "source": [
    "prc = 1.0\n",
    "min_umap3 = np.percentile(X_umap3, prc, axis=0)\n",
    "max_umap3 = np.percentile(X_umap3, 100-prc, axis=0)\n",
    "range_ok = ((X_umap3[:,0]>min_umap3[0]) & \n",
    "            (X_umap3[:,0]<max_umap3[0]) &\n",
    "            (X_umap3[:,1]>min_umap3[1]) & \n",
    "            (X_umap3[:,1]<max_umap3[1]) &\n",
    "            (X_umap3[:,2]>min_umap3[2]) & \n",
    "            (X_umap3[:,2]<max_umap3[2]))\n",
    "            \n",
    "X_umap3_filt = X_umap3[range_ok]\n",
    "y_umap3_filt = y[range_ok]"
   ]
  },
  {
   "cell_type": "code",
   "execution_count": null,
   "metadata": {},
   "outputs": [],
   "source": [
    "fig = px.scatter_3d(\n",
    "    X_umap3_filt, x=0, y=1, z=2, color=y_umap3_filt,\n",
    "    title=\"UMAP projection with n_neighbors=%d, min_dist=%.2f\" % (n_neighbors, \n",
    "                                                                  min_dist),\n",
    "    labels={'0': 'UMAP 1', '1': 'UMAP 2', '2': 'UMAP 3'}\n",
    ")\n",
    "fig.update_traces(marker=dict(size=1))\n",
    "plot(fig, filename = 'umap3-plot.html');"
   ]
  },
  {
   "cell_type": "code",
   "execution_count": null,
   "metadata": {},
   "outputs": [],
   "source": []
  }
 ],
 "metadata": {
  "kernelspec": {
   "display_name": "Python 3",
   "language": "python",
   "name": "python3"
  },
  "language_info": {
   "codemirror_mode": {
    "name": "ipython",
    "version": 3
   },
   "file_extension": ".py",
   "mimetype": "text/x-python",
   "name": "python",
   "nbconvert_exporter": "python",
   "pygments_lexer": "ipython3",
   "version": "3.7.8"
  }
 },
 "nbformat": 4,
 "nbformat_minor": 4
}
